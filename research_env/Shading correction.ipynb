{
 "cells": [
  {
   "cell_type": "code",
   "execution_count": 1,
   "id": "b39a9fa0",
   "metadata": {},
   "outputs": [],
   "source": [
    "import cv2"
   ]
  },
  {
   "cell_type": "code",
   "execution_count": 2,
   "id": "5349f187",
   "metadata": {},
   "outputs": [],
   "source": [
    "import numpy as np"
   ]
  },
  {
   "cell_type": "code",
   "execution_count": 3,
   "id": "da023a84",
   "metadata": {},
   "outputs": [
    {
     "name": "stdout",
     "output_type": "stream",
     "text": [
      "Collecting opencv-rolling-ball\n",
      "  Downloading opencv-rolling-ball-1.0.1.tar.gz (6.2 kB)\n",
      "Requirement already satisfied: opencv-python in d:\\dlcvanlp\\cv-data-processing\\env\\lib\\site-packages (from opencv-rolling-ball) (4.5.5.62)\n",
      "Requirement already satisfied: numpy in d:\\dlcvanlp\\cv-data-processing\\env\\lib\\site-packages (from opencv-rolling-ball) (1.21.5)\n",
      "Building wheels for collected packages: opencv-rolling-ball\n",
      "  Building wheel for opencv-rolling-ball (setup.py): started\n",
      "  Building wheel for opencv-rolling-ball (setup.py): finished with status 'done'\n",
      "  Created wheel for opencv-rolling-ball: filename=opencv_rolling_ball-1.0.1-py3-none-any.whl size=6894 sha256=545713490bb6838b75695b51e38a7d6e627b9bae92d959bb41ab41ba8dc6d796\n",
      "  Stored in directory: c:\\users\\kulki\\appdata\\local\\pip\\cache\\wheels\\77\\09\\f3\\6772c9b8e5f39572f27d71f72e157c2f36bc6d8c74fe9f6f50\n",
      "Successfully built opencv-rolling-ball\n",
      "Installing collected packages: opencv-rolling-ball\n",
      "Successfully installed opencv-rolling-ball-1.0.1\n"
     ]
    }
   ],
   "source": [
    "!pip install opencv-rolling-ball"
   ]
  },
  {
   "cell_type": "code",
   "execution_count": 4,
   "id": "5e77b58e",
   "metadata": {},
   "outputs": [],
   "source": [
    "from cv2_rolling_ball import subtract_background_rolling_ball\n",
    "from matplotlib import pyplot as plt"
   ]
  },
  {
   "cell_type": "code",
   "execution_count": 6,
   "id": "da67d834",
   "metadata": {},
   "outputs": [],
   "source": [
    "img=cv2.imread(\"images/Alloy_gradient.jpg\",0)\n",
    "radious=30\n",
    "final_img, background=subtract_background_rolling_ball(img,radious, light_background=True,\n",
    "clahe = cv2.createCLAHE(clipLimit=3, tileGridSize=(8,8))\n",
    "clahe_img = clahe.apply(final_img)                                                     use_paraboloid=False, do_presmooth=True)\n",
    "cv2.imshow(\"Background image\", background)\n",
    "cv2.imshow(\"AFter background subtraction\", final_img)\n",
    "#cv2.imshow(\"After CLAHE\", clahe_img)\n",
    "\n",
    "cv2.waitKey(0)\n",
    "cv2.destroyAllWindows()\n"
   ]
  },
  {
   "cell_type": "code",
   "execution_count": null,
   "id": "c33d6254",
   "metadata": {},
   "outputs": [],
   "source": []
  }
 ],
 "metadata": {
  "kernelspec": {
   "display_name": "Python 3 (ipykernel)",
   "language": "python",
   "name": "python3"
  },
  "language_info": {
   "codemirror_mode": {
    "name": "ipython",
    "version": 3
   },
   "file_extension": ".py",
   "mimetype": "text/x-python",
   "name": "python",
   "nbconvert_exporter": "python",
   "pygments_lexer": "ipython3",
   "version": "3.7.11"
  }
 },
 "nbformat": 4,
 "nbformat_minor": 5
}
