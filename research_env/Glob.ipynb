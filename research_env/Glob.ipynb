{
 "cells": [
  {
   "cell_type": "code",
   "execution_count": 10,
   "id": "cccb2a5b",
   "metadata": {},
   "outputs": [
    {
     "name": "stdout",
     "output_type": "stream",
     "text": [
      "Collecting matplotlib\n",
      "  Using cached matplotlib-3.5.1-cp37-cp37m-win_amd64.whl (7.2 MB)\n",
      "Requirement already satisfied: pyparsing>=2.2.1 in d:\\dlcvanlp\\cv-data-processing\\env\\lib\\site-packages (from matplotlib) (3.0.7)\n",
      "Collecting fonttools>=4.22.0\n",
      "  Using cached fonttools-4.29.1-py3-none-any.whl (895 kB)\n",
      "Requirement already satisfied: packaging>=20.0 in d:\\dlcvanlp\\cv-data-processing\\env\\lib\\site-packages (from matplotlib) (21.3)\n",
      "Requirement already satisfied: pillow>=6.2.0 in d:\\dlcvanlp\\cv-data-processing\\env\\lib\\site-packages (from matplotlib) (9.0.1)\n",
      "Collecting kiwisolver>=1.0.1\n",
      "  Using cached kiwisolver-1.3.2-cp37-cp37m-win_amd64.whl (51 kB)\n",
      "Collecting cycler>=0.10\n",
      "  Using cached cycler-0.11.0-py3-none-any.whl (6.4 kB)\n",
      "Requirement already satisfied: python-dateutil>=2.7 in d:\\dlcvanlp\\cv-data-processing\\env\\lib\\site-packages (from matplotlib) (2.8.2)\n",
      "Requirement already satisfied: numpy>=1.17 in d:\\dlcvanlp\\cv-data-processing\\env\\lib\\site-packages (from matplotlib) (1.21.5)\n",
      "Requirement already satisfied: six>=1.5 in d:\\dlcvanlp\\cv-data-processing\\env\\lib\\site-packages (from python-dateutil>=2.7->matplotlib) (1.16.0)\n",
      "Installing collected packages: kiwisolver, fonttools, cycler, matplotlib\n",
      "Successfully installed cycler-0.11.0 fonttools-4.29.1 kiwisolver-1.3.2 matplotlib-3.5.1\n"
     ]
    }
   ],
   "source": [
    "!pip install matplotlib"
   ]
  },
  {
   "cell_type": "code",
   "execution_count": 1,
   "id": "41c7eedb",
   "metadata": {},
   "outputs": [
    {
     "data": {
      "text/plain": [
       "'\\nGlob\\n'"
      ]
     },
     "execution_count": 1,
     "metadata": {},
     "output_type": "execute_result"
    }
   ],
   "source": [
    "\"\"\"\n",
    "Glob\n",
    "\"\"\""
   ]
  },
  {
   "cell_type": "code",
   "execution_count": 2,
   "id": "19671cd9",
   "metadata": {},
   "outputs": [],
   "source": [
    "import cv2\n",
    "import glob"
   ]
  },
  {
   "cell_type": "code",
   "execution_count": 6,
   "id": "904e18a8",
   "metadata": {},
   "outputs": [
    {
     "name": "stdout",
     "output_type": "stream",
     "text": [
      "['images\\\\Alloy_gradient.jpg', 'images\\\\BSE.tif', 'images\\\\bubbles.tif', 'images\\\\cast_iron1.tif', 'images\\\\cast_iron2.jpg', 'images\\\\monalisa.jpg', 'images\\\\Osteosarcoma_01.tif', 'images\\\\Osteosarcoma_01_1sigma_blur.tif', 'images\\\\Osteosarcoma_01_25Sigma_noise.tif', 'images\\\\Osteosarcoma_01_2sigma_blur.tif', 'images\\\\Osteosarcoma_01_8bit.ome.tiff', 'images\\\\Osteosarcoma_01_8bit_salt_pepper.tif', 'images\\\\Osteosarcoma_01_8bit_salt_pepper_cropped.tif', 'images\\\\Osteosarcoma_01_small.tif', 'images\\\\Osteosarcoma_01_transl.tif', 'images\\\\Osteosarcoma_01_transl_rot.tif', 'images\\\\sandstone.tif', 'images\\\\sandstone_blur_2sigma.tif', 'images\\\\sandstone_low_contrast.tif', 'images\\\\scratch_time_series.tif', 'images\\\\synthetic.jpg', 'images\\\\Ti_powder.tif', 'images\\\\Ti_powder_single.tif']\n"
     ]
    },
    {
     "data": {
      "text/plain": [
       "[None]"
      ]
     },
     "execution_count": 6,
     "metadata": {},
     "output_type": "execute_result"
    }
   ],
   "source": [
    "file_list=glob.glob('images/*.*')\n",
    "print(file_list)\n",
    "my_list=[]\n",
    "\n",
    "path=\"images\"\n",
    "\n",
    "for file in glob.glob(path):\n",
    "    #print(file)\n",
    "    a=cv2.imread(file)\n",
    "    my_list.append(a)\n",
    "my_list"
   ]
  },
  {
   "cell_type": "code",
   "execution_count": 13,
   "id": "d02851e7",
   "metadata": {},
   "outputs": [],
   "source": [
    "import matplotlib\n",
    "from matplotlib import pyplot as plt\n",
    "plt.imshow(my_list[9])"
   ]
  },
  {
   "cell_type": "code",
   "execution_count": null,
   "id": "28474008",
   "metadata": {},
   "outputs": [],
   "source": []
  }
 ],
 "metadata": {
  "kernelspec": {
   "display_name": "Python 3 (ipykernel)",
   "language": "python",
   "name": "python3"
  },
  "language_info": {
   "codemirror_mode": {
    "name": "ipython",
    "version": 3
   },
   "file_extension": ".py",
   "mimetype": "text/x-python",
   "name": "python",
   "nbconvert_exporter": "python",
   "pygments_lexer": "ipython3",
   "version": "3.7.11"
  }
 },
 "nbformat": 4,
 "nbformat_minor": 5
}
