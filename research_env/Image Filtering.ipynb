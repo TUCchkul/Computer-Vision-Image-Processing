{
 "cells": [
  {
   "cell_type": "code",
   "execution_count": null,
   "id": "0dd17fbd",
   "metadata": {},
   "outputs": [],
   "source": [
    "# Denoising in Gausian Filter\n",
    "import cv2\n",
    "from skimage import io, img_as_float\n",
    "from skimage.filters import gaussian\n",
    "\n",
    "img_gaussian_noise = img_as_float(io.imread('images/Osteosarcoma_01_25Sigma_noise.tif', as_gray=True))\n",
    "img_salt_pepper_noise = img_as_float(io.imread('images/Osteosarcoma_01_8bit_salt_pepper.tif', as_gray=True))\n",
    "\n",
    "img = img_gaussian_noise\n",
    "\n",
    "gaussian_using_cv2 = cv2.GaussianBlur(img, (3,3), 0, borderType=cv2.BORDER_CONSTANT)\n",
    "\n",
    "gaussian_using_skimage = gaussian(img, sigma=1, mode='constant', cval=0.0)\n",
    "#sigma defines the std dev of the gaussian kernel. SLightly different than \n",
    "#how we define in cv2\n",
    "\n",
    "\n",
    "cv2.imshow(\"Original\", img)\n",
    "cv2.imshow(\"Using cv2 gaussian\", gaussian_using_cv2)\n",
    "cv2.imshow(\"Using skimage\", gaussian_using_skimage)\n",
    "#cv2.imshow(\"Using scipy2\", conv_using_scipy2)\n",
    "\n",
    "cv2.waitKey(0)          \n",
    "cv2.destroyAllWindows() \n"
   ]
  },
  {
   "cell_type": "code",
   "execution_count": null,
   "id": "d123371c",
   "metadata": {},
   "outputs": [],
   "source": []
  }
 ],
 "metadata": {
  "kernelspec": {
   "display_name": "Python 3 (ipykernel)",
   "language": "python",
   "name": "python3"
  },
  "language_info": {
   "codemirror_mode": {
    "name": "ipython",
    "version": 3
   },
   "file_extension": ".py",
   "mimetype": "text/x-python",
   "name": "python",
   "nbconvert_exporter": "python",
   "pygments_lexer": "ipython3",
   "version": "3.7.11"
  }
 },
 "nbformat": 4,
 "nbformat_minor": 5
}
