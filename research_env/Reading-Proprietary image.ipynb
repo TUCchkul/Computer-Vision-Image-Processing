{
 "cells": [
  {
   "cell_type": "code",
   "execution_count": 1,
   "id": "47d78026",
   "metadata": {},
   "outputs": [
    {
     "data": {
      "text/plain": [
       "'\\nReading Prpprietary images\\n'"
      ]
     },
     "execution_count": 1,
     "metadata": {},
     "output_type": "execute_result"
    }
   ],
   "source": [
    "\"\"\"\n",
    "Reading Prpprietary images\n",
    "\"\"\""
   ]
  },
  {
   "cell_type": "code",
   "execution_count": 12,
   "id": "27861af3",
   "metadata": {},
   "outputs": [
    {
     "data": {
      "text/plain": [
       "(1104, 1376, 3)"
      ]
     },
     "execution_count": 12,
     "metadata": {},
     "output_type": "execute_result"
    }
   ],
   "source": [
    "from skimage import io\n",
    "img2=io.imread(\"images/Osteosarcoma_01.tif\", as_gray=False)\n",
    "img2.shape"
   ]
  },
  {
   "cell_type": "code",
   "execution_count": 6,
   "id": "0e0c9073",
   "metadata": {},
   "outputs": [],
   "source": [
    "import tifffile"
   ]
  },
  {
   "cell_type": "code",
   "execution_count": 10,
   "id": "a742a7e3",
   "metadata": {},
   "outputs": [
    {
     "data": {
      "text/plain": [
       "(1104, 1376, 3)"
      ]
     },
     "execution_count": 10,
     "metadata": {},
     "output_type": "execute_result"
    }
   ],
   "source": [
    "img=tifffile.imread(\"images/Osteosarcoma_01.tif\")\n",
    "img.shape"
   ]
  },
  {
   "cell_type": "code",
   "execution_count": null,
   "id": "21fe374f",
   "metadata": {},
   "outputs": [],
   "source": [
    "img1=tifffile.imread(\"images/3d_\")"
   ]
  }
 ],
 "metadata": {
  "kernelspec": {
   "display_name": "Python 3 (ipykernel)",
   "language": "python",
   "name": "python3"
  },
  "language_info": {
   "codemirror_mode": {
    "name": "ipython",
    "version": 3
   },
   "file_extension": ".py",
   "mimetype": "text/x-python",
   "name": "python",
   "nbconvert_exporter": "python",
   "pygments_lexer": "ipython3",
   "version": "3.7.11"
  }
 },
 "nbformat": 4,
 "nbformat_minor": 5
}
